{
 "cells": [
  {
   "cell_type": "code",
   "execution_count": 1,
   "id": "cc6b49d7",
   "metadata": {},
   "outputs": [],
   "source": [
    "import tkinter as tk"
   ]
  },
  {
   "cell_type": "code",
   "execution_count": 10,
   "id": "02f26543",
   "metadata": {},
   "outputs": [],
   "source": [
    "window = tk.Tk()\n",
    "window.title('Welcome to goa singham')\n",
    "\n",
    "label = tk.Label(window,text = 'Hi I am KS',font=(\"Arial Bold\",40)).pack()\n",
    "\n",
    "window.mainloop()"
   ]
  },
  {
   "cell_type": "code",
   "execution_count": null,
   "id": "21dec21d",
   "metadata": {},
   "outputs": [],
   "source": [
    "window = tk.Tk()\n",
    "window.title('Welcome to goa singham')\n",
    "\n",
    "label = tk.Label(window,text = 'Hi I am KS',font=(\"Arial Bold\",40)).grid(column = 0,row = 0)\n",
    "\n",
    "window.mainloop()"
   ]
  },
  {
   "cell_type": "code",
   "execution_count": 9,
   "id": "668c2cea",
   "metadata": {},
   "outputs": [],
   "source": [
    "window = tk.Tk()\n",
    "window.title('Welcome to goa singham')\n",
    "\n",
    "label = tk.Button(window,text = 'Enter',font=(\"Arial Bold\",40)).grid(column = 0,row = 0)\n",
    "\n",
    "window.mainloop()"
   ]
  },
  {
   "cell_type": "code",
   "execution_count": 16,
   "id": "d7bd39ff",
   "metadata": {},
   "outputs": [],
   "source": [
    "window = tk.Tk()\n",
    "window.title('Welcome to goa singham')\n",
    "\n",
    "label = tk.Button(window,text = 'Enter',font=(\"Arial Bold\",40),bg = 'red',fg = 'white').grid(column = 0,row = 0)\n",
    "\n",
    "window.mainloop()"
   ]
  },
  {
   "cell_type": "code",
   "execution_count": 25,
   "id": "865ba72e",
   "metadata": {},
   "outputs": [],
   "source": [
    "window = tk.Tk()\n",
    "window.title('Welcome to goa singham')\n",
    "\n",
    "def sms():\n",
    "    label = tk.Label(window,text = 'Hi I am KS',font=(\"Arial Bold\",18)).pack()\n",
    "\n",
    "button = tk.Button(window,text = 'Enter',font=(\"Arial Bold\",25),bg = 'pink',fg = 'white',command = sms).pack()\n",
    "\n",
    "window.mainloop()"
   ]
  },
  {
   "cell_type": "code",
   "execution_count": 38,
   "id": "f49388a1",
   "metadata": {},
   "outputs": [],
   "source": [
    "from tkinter import ttk\n",
    "window = tk.Tk()\n",
    "window.title('Welcome to goa singham')\n",
    "  \n",
    "drop_box = ttk.Combobox(window,font=(\"Arial Bold\",25))\n",
    "drop_box['values'] = (1,2,3,4,\"Kunj\")\n",
    "drop_box.grid(column = 0 ,row = 0)\n",
    "                        \n",
    "window.mainloop()"
   ]
  },
  {
   "cell_type": "code",
   "execution_count": 39,
   "id": "efd5c57c",
   "metadata": {},
   "outputs": [],
   "source": [
    "import os\n",
    "from tkinter import ttk\n",
    "window = tk.Tk()\n",
    "window.title('Welcome to goa singham')\n",
    "  \n",
    "drop_box = ttk.Combobox(window,font=(\"Arial Bold\",25))\n",
    "drop_box['values'] = (os.listdir())\n",
    "drop_box.grid(column = 0 ,row = 0)\n",
    "                        \n",
    "window.mainloop()"
   ]
  },
  {
   "cell_type": "code",
   "execution_count": 47,
   "id": "d86595b7",
   "metadata": {},
   "outputs": [],
   "source": [
    "from tkinter import ttk\n",
    "window = tk.Tk()\n",
    "window.title('Welcome to goa singham')\n",
    "\n",
    "chk_status = tk.BooleanVar()\n",
    "chk_status.set(True)\n",
    "chk = ttk.Checkbutton(window,text = 'Login',var = chk_status).pack()\n",
    "  \n",
    "window.mainloop()"
   ]
  },
  {
   "cell_type": "code",
   "execution_count": 59,
   "id": "132be545",
   "metadata": {},
   "outputs": [],
   "source": [
    "from tkinter import ttk\n",
    "from tkinter import messagebox\n",
    "window = tk.Tk()\n",
    "window.title('Welcome to goa singham')\n",
    "\n",
    "def sms():\n",
    "    \n",
    "    messagebox.showinfo(\"Message content\",\"File not found\")\n",
    "button = tk.Button(window,text = 'Enter',font=(\"Arial Bold\",25),bg = 'pink',fg = 'white',command = sms).pack()\n",
    "\n",
    "\n",
    "\n",
    "window.mainloop()"
   ]
  },
  {
   "cell_type": "code",
   "execution_count": 68,
   "id": "7393ad95",
   "metadata": {},
   "outputs": [],
   "source": [
    "from tkinter import ttk\n",
    "window = tk.Tk()\n",
    "window.title('Welcome to goa singham')\n",
    "\n",
    "\n",
    "text=tk.Entry(window,width = 20).pack()\n",
    "\n",
    "\n",
    "window.mainloop()"
   ]
  },
  {
   "cell_type": "code",
   "execution_count": 100,
   "id": "771ed297",
   "metadata": {},
   "outputs": [],
   "source": [
    "from tkinter import ttk\n",
    "window = tk.Tk()\n",
    "window.title('Welcome to goa singham')\n",
    "\n",
    "label = tk.Label(window,text = 'Username:',font=(\"Arial Bold\",10)).grid(column = 0,row = 0)\n",
    "text=tk.Entry(window,width = 20).grid(column = 1,row = 0)\n",
    "\n",
    "label = tk.Label(window,text = 'Password:',font=(\"Arial Bold\",10)).grid(column = 0,row = 1)\n",
    "text=tk.Entry(window,width = 20).grid(column = 1,row = 1)\n",
    "\n",
    "chk_status = tk.BooleanVar()\n",
    "chk_status.set(True)\n",
    "chk = ttk.Checkbutton(window,text = 'Login',var = chk_status).grid(columnspan = 2,row = 3)\n",
    "  \n",
    "window.mainloop()"
   ]
  },
  {
   "cell_type": "code",
   "execution_count": 108,
   "id": "7bf420c1",
   "metadata": {},
   "outputs": [],
   "source": [
    "from tkinter import ttk\n",
    "window = tk.Tk()\n",
    "window.title('Welcome to goa singham')\n",
    "\n",
    "spin = tk.Spinbox(window,width = 5,from_ = 0,to = 10).pack(side = \"left\")\n",
    "\n",
    "window.mainloop()"
   ]
  },
  {
   "cell_type": "code",
   "execution_count": 111,
   "id": "41b07595",
   "metadata": {},
   "outputs": [],
   "source": [
    "from tkinter import ttk\n",
    "window = tk.Tk()\n",
    "window.title('Welcome to goa singham')\n",
    "\n",
    "radio = tk.Radiobutton(window,text = 'Batch 1',value = 1).pack()\n",
    "radio2 = tk.Radiobutton(window,text = 'Batch 2',value = 2).pack()\n",
    "\n",
    "window.mainloop()"
   ]
  },
  {
   "cell_type": "code",
   "execution_count": 113,
   "id": "43d6fb85",
   "metadata": {},
   "outputs": [],
   "source": [
    "from tkinter import ttk\n",
    "window = tk.Tk()\n",
    "window.title('Welcome to goa singham')\n",
    "\n",
    "radio = tk.Radiobutton(window,text = 'Batch 1',value = 1).grid(column = 0,row = 0)\n",
    "radio2 = tk.Radiobutton(window,text = 'Batch 2',value = 2).grid(column = 1,row = 0)\n",
    "\n",
    "window.mainloop()"
   ]
  },
  {
   "cell_type": "code",
   "execution_count": 122,
   "id": "61eda0c4",
   "metadata": {},
   "outputs": [],
   "source": [
    "from tkinter import ttk\n",
    "window = tk.Tk()\n",
    "window.geometry(\"300x200\")\n",
    "window.configure(bg='pink')\n",
    "window.title('Welcome to goa singham')\n",
    "\n",
    "radio = tk.Radiobutton(window,text = 'Batch 1',value = 1).grid(column = 0,row = 0)\n",
    "radio2 = tk.Radiobutton(window,text = 'Batch 2',value = 2).grid(column = 1,row = 0)\n",
    "\n",
    "window.mainloop()"
   ]
  },
  {
   "cell_type": "code",
   "execution_count": null,
   "id": "20196001",
   "metadata": {},
   "outputs": [],
   "source": []
  }
 ],
 "metadata": {
  "kernelspec": {
   "display_name": "Python 3 (ipykernel)",
   "language": "python",
   "name": "python3"
  },
  "language_info": {
   "codemirror_mode": {
    "name": "ipython",
    "version": 3
   },
   "file_extension": ".py",
   "mimetype": "text/x-python",
   "name": "python",
   "nbconvert_exporter": "python",
   "pygments_lexer": "ipython3",
   "version": "3.9.12"
  }
 },
 "nbformat": 4,
 "nbformat_minor": 5
}
